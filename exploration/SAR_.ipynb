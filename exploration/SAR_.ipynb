{
 "cells": [
  {
   "cell_type": "code",
   "execution_count": null,
   "metadata": {},
   "outputs": [],
   "source": [
    "import pandas as pd\n",
    "import pandas_ta as ta\n",
    "from datetime import datetime"
   ]
  },
  {
   "cell_type": "code",
   "execution_count": null,
   "metadata": {},
   "outputs": [],
   "source": [
    "\n",
    "\n",
    "# Charger tes données dans un DataFrame\n",
    "df = pd.read_csv('../DB/bitget/1h/BTC-USDT-USDT.csv') \n",
    "df['date'] = df['date'].apply(lambda x: datetime.fromtimestamp(x/1000).strftime('%Y-%m-%d %H:%M:%S'))\n",
    "df.set_index('date', inplace=True)\n",
    "df[:5]\n",
    "\n"
   ]
  },
  {
   "cell_type": "code",
   "execution_count": null,
   "metadata": {},
   "outputs": [],
   "source": [
    "df_test = df['2024-07-01 00:00:00':] \n",
    "df_test"
   ]
  },
  {
   "cell_type": "code",
   "execution_count": null,
   "metadata": {},
   "outputs": [],
   "source": [
    "# Fonction pour calculer le Parabolic SAR\n",
    "def calculate_parabolic_sar(df, initial_af=0.02, max_af=0.2):\n",
    "    sar = df['close'].copy()\n",
    "    sar[0] = df['close'][0]\n",
    "    ep = df['high'][0]\n",
    "    af = initial_af\n",
    "    trend = 1  # 1 = bull, -1 = bear\n",
    "\n",
    "    for i in range(1, len(df)):\n",
    "        sar[i] = sar[i-1] + af * (ep - sar[i-1])\n",
    "\n",
    "        if trend == 1:\n",
    "            if df['low'][i] < sar[i]:\n",
    "                trend = -1\n",
    "                sar[i] = ep\n",
    "                ep = df['low'][i]\n",
    "                af = initial_af\n",
    "            else:\n",
    "                if df['high'][i] > ep:\n",
    "                    ep = df['high'][i]\n",
    "                    af = min(max_af, af + initial_af)\n",
    "        else:\n",
    "            if df['high'][i] > sar[i]:\n",
    "                trend = 1\n",
    "                sar[i] = ep\n",
    "                ep = df['high'][i]\n",
    "                af = initial_af\n",
    "            else:\n",
    "                if df['low'][i] < ep:\n",
    "                    ep = df['low'][i]\n",
    "                    af = min(max_af, af + initial_af)\n",
    "\n",
    "    return sar\n",
    "\n",
    "\n",
    "df_test['SAR'] = calculate_parabolic_sar(df_test)"
   ]
  },
  {
   "cell_type": "code",
   "execution_count": null,
   "metadata": {},
   "outputs": [],
   "source": [
    "df_test\n",
    "\n",
    "# Calcul des signaux d'achat et de vente\n",
    "df_test['signal'] = 0\n",
    "df_test['signal'][df_test['close'] > df_test['SAR']] = 1   # Signal d'achat\n",
    "df_test['signal'][df_test['close'] < df_test['SAR']] = -1  # Signal de vente\n",
    "\n",
    "df_test"
   ]
  },
  {
   "cell_type": "code",
   "execution_count": null,
   "metadata": {},
   "outputs": [],
   "source": [
    "\n",
    "import pandas as pd\n",
    "import plotly.graph_objects as go"
   ]
  },
  {
   "cell_type": "code",
   "execution_count": null,
   "metadata": {},
   "outputs": [],
   "source": [
    "\n",
    "def plot_chart(df):\n",
    "\n",
    "    # Création du graphique\n",
    "    fig = go.Figure()\n",
    "\n",
    "    # Ajouter les bougies\n",
    "    fig.add_trace(go.Candlestick(\n",
    "        x=df.index,\n",
    "        open=df['open'],\n",
    "        high=df['high'],\n",
    "        low=df['low'],\n",
    "        close=df['close'],\n",
    "        name='Candlestick',\n",
    "        line=dict(width=1), opacity=1\n",
    "    ))\n",
    "\n",
    "    # Ajouter le Parabolic SAR\n",
    "    fig.add_trace(go.Scatter(\n",
    "        x=df.index,\n",
    "        y=df['SAR'],\n",
    "        mode='lines',\n",
    "        name='Parabolic SAR',\n",
    "        line=dict(color='orange')\n",
    "    ))\n",
    "\n",
    "    # Ajouter les signaux d'achat et de vente\n",
    "    fig.add_trace(go.Scatter(\n",
    "        x=df.index[df['signal'] == 1],\n",
    "        y=df['close'][df['signal'] == 1],\n",
    "        mode='markers',\n",
    "        marker=dict(color='green', symbol='triangle-up', size=10),\n",
    "        name='Buy Signal'\n",
    "    ))\n",
    "\n",
    "    fig.add_trace(go.Scatter(\n",
    "        x=df.index[df['signal'] == -1],\n",
    "        y=df['close'][df['signal'] == -1],\n",
    "        mode='markers',\n",
    "        marker=dict(color='red', symbol='triangle-down', size=10),\n",
    "        name='Sell Signal'\n",
    "    ))\n",
    "\n",
    "    # Mettre en forme le graphique\n",
    "    fig.update_layout(\n",
    "        title='Parabolic SAR Strategy',\n",
    "        xaxis_title='Date',\n",
    "        yaxis_title='Price',\n",
    "        xaxis_rangeslider_visible=False,\n",
    "        height=600\n",
    "    )\n",
    "\n",
    "    # Afficher le graphique\n",
    "    return fig.show()\n",
    "\n",
    "plot_chart(df_test)"
   ]
  },
  {
   "cell_type": "code",
   "execution_count": null,
   "metadata": {},
   "outputs": [],
   "source": [
    "def populate_positions(df):\n",
    "\n",
    "    # Simuler les trades\n",
    "    df['position'] = df['signal'].shift()  # Position du jour précédent\n",
    "    df['trade_return'] = df['close'].pct_change() * df['position']  # Retour de chaque trade\n",
    "\n",
    "    # Calculer le retour cumulé\n",
    "    df['cumulative_return'] = (1 + df['trade_return']).cumprod() - 1\n",
    "\n",
    "    # Calculer les profits\n",
    "    df['profit'] = df['trade_return'] * 100  # Pourcentage de profit\n",
    "\n",
    "    # Résumé des profits\n",
    "    total_profit = df['profit'].sum()\n",
    "    total_return = df['cumulative_return'].iloc[-1] * 100  # Retour total en pourcentage\n",
    "\n",
    "    print(f\"Total Profit: {total_profit:.2f}%\")\n",
    "    print(f\"Total Return: {total_return:.2f}%\")\n",
    "\n",
    "    # Afficher le DataFrame avec les profits\n",
    "    print(df[['close', 'SAR', 'signal', 'position', 'trade_return', 'cumulative_return', 'profit']])\n",
    "\n",
    "populate_positions(df_test)    \n"
   ]
  }
 ],
 "metadata": {
  "kernelspec": {
   "display_name": "env",
   "language": "python",
   "name": "python3"
  },
  "language_info": {
   "codemirror_mode": {
    "name": "ipython",
    "version": 3
   },
   "file_extension": ".py",
   "mimetype": "text/x-python",
   "name": "python",
   "nbconvert_exporter": "python",
   "pygments_lexer": "ipython3",
   "version": "3.11.2"
  }
 },
 "nbformat": 4,
 "nbformat_minor": 2
}
