{
 "cells": [
  {
   "cell_type": "code",
   "execution_count": 1,
   "metadata": {},
   "outputs": [],
   "source": [
    "import os\n",
    "import sys\n",
    "sys.path.append('../')\n",
    "import requests\n",
    "import datetime \n",
    "import pandas as pd\n",
    "import json\n",
    "import pytz\n",
    "\n",
    "\n",
    "import threading\n",
    "\n",
    "request_limit = 20  # Maximum number of requests per second\n",
    "semaphore = threading.Semaphore(request_limit)"
   ]
  },
  {
   "cell_type": "code",
   "execution_count": 2,
   "metadata": {},
   "outputs": [
    {
     "data": {
      "text/plain": [
       "245"
      ]
     },
     "execution_count": 2,
     "metadata": {},
     "output_type": "execute_result"
    }
   ],
   "source": [
    "with open('../constants/bitget_symbols.json', 'r') as file:\n",
    "    data = json.load(file)\n",
    "\n",
    "# Now you can work with the JSON data\n",
    "instruments = data.keys()\n",
    "len(instruments)"
   ]
  },
  {
   "cell_type": "code",
   "execution_count": 3,
   "metadata": {},
   "outputs": [],
   "source": [
    "# timeframes= ['1W', '1m', '5m', '15m', '30m', '1H', '4H', '1D']\n",
    "timeframes= ['1W']\n",
    "\n",
    "symbol = 'INJ'\n",
    "granularity = '5m'\n",
    "start_time = datetime.datetime(2023, 1, 1, 0, 0)\n",
    "path_db = '../DB'"
   ]
  },
  {
   "cell_type": "code",
   "execution_count": null,
   "metadata": {},
   "outputs": [],
   "source": [
    "def generate_time_intervals(start_datetime, end_datetime=datetime.datetime.now().replace(second=0, microsecond=0), timeframe='1D', range=200):\n",
    "    intervals = []\n",
    "    current_datetime = datetime.datetime.strptime(start_datetime, \"%Y-%m-%d %H:%M:%S\").replace(tzinfo=pytz.timezone('Europe/Paris'))\n",
    "    end_datetime = end_datetime.replace(tzinfo=pytz.timezone('Europe/Paris'))\n",
    "\n",
    "    # Define the size of the intervals for each timeframe\n",
    "    timeframe_intervals = {\n",
    "        '1m': datetime.timedelta(minutes=1*range),\n",
    "        '5m': datetime.timedelta(minutes=5*range),\n",
    "        '15m': datetime.timedelta(minutes=15*range),\n",
    "        '30m': datetime.timedelta(minutes=30*range),\n",
    "        '1H': datetime.timedelta(hours=1*range),\n",
    "        '4H': datetime.timedelta(hours=4*range),\n",
    "        '1D': datetime.timedelta(days=1*90),\n",
    "        '1W': datetime.timedelta(weeks=1*12),\n",
    "    }\n",
    "\n",
    "    # Get the size of the intervals for the specified timeframe\n",
    "    interval = timeframe_intervals[timeframe]\n",
    "\n",
    "    # Generate the intervals\n",
    "    while current_datetime < end_datetime:\n",
    "        next_datetime = current_datetime + interval\n",
    "        if next_datetime > end_datetime:\n",
    "            next_datetime = end_datetime\n",
    "        intervals.append((current_datetime.replace(second=0, microsecond=0), next_datetime.replace(second=0, microsecond=0)))\n",
    "        current_datetime = next_datetime\n",
    "\n",
    "    return intervals"
   ]
  },
  {
   "cell_type": "code",
   "execution_count": 5,
   "metadata": {},
   "outputs": [
    {
     "data": {
      "text/plain": [
       "[(datetime.datetime(2024, 1, 1, 0, 0, tzinfo=<DstTzInfo 'Europe/Paris' LMT+0:09:00 STD>),\n",
       "  datetime.datetime(2024, 1, 9, 8, 0, tzinfo=<DstTzInfo 'Europe/Paris' LMT+0:09:00 STD>)),\n",
       " (datetime.datetime(2024, 1, 9, 8, 0, tzinfo=<DstTzInfo 'Europe/Paris' LMT+0:09:00 STD>),\n",
       "  datetime.datetime(2024, 1, 17, 16, 0, tzinfo=<DstTzInfo 'Europe/Paris' LMT+0:09:00 STD>)),\n",
       " (datetime.datetime(2024, 1, 17, 16, 0, tzinfo=<DstTzInfo 'Europe/Paris' LMT+0:09:00 STD>),\n",
       "  datetime.datetime(2024, 1, 26, 0, 0, tzinfo=<DstTzInfo 'Europe/Paris' LMT+0:09:00 STD>)),\n",
       " (datetime.datetime(2024, 1, 26, 0, 0, tzinfo=<DstTzInfo 'Europe/Paris' LMT+0:09:00 STD>),\n",
       "  datetime.datetime(2024, 2, 3, 8, 0, tzinfo=<DstTzInfo 'Europe/Paris' LMT+0:09:00 STD>)),\n",
       " (datetime.datetime(2024, 2, 3, 8, 0, tzinfo=<DstTzInfo 'Europe/Paris' LMT+0:09:00 STD>),\n",
       "  datetime.datetime(2024, 2, 11, 16, 0, tzinfo=<DstTzInfo 'Europe/Paris' LMT+0:09:00 STD>)),\n",
       " (datetime.datetime(2024, 2, 11, 16, 0, tzinfo=<DstTzInfo 'Europe/Paris' LMT+0:09:00 STD>),\n",
       "  datetime.datetime(2024, 2, 20, 0, 0, tzinfo=<DstTzInfo 'Europe/Paris' LMT+0:09:00 STD>)),\n",
       " (datetime.datetime(2024, 2, 20, 0, 0, tzinfo=<DstTzInfo 'Europe/Paris' LMT+0:09:00 STD>),\n",
       "  datetime.datetime(2024, 2, 28, 8, 0, tzinfo=<DstTzInfo 'Europe/Paris' LMT+0:09:00 STD>)),\n",
       " (datetime.datetime(2024, 2, 28, 8, 0, tzinfo=<DstTzInfo 'Europe/Paris' LMT+0:09:00 STD>),\n",
       "  datetime.datetime(2024, 3, 7, 16, 0, tzinfo=<DstTzInfo 'Europe/Paris' LMT+0:09:00 STD>)),\n",
       " (datetime.datetime(2024, 3, 7, 16, 0, tzinfo=<DstTzInfo 'Europe/Paris' LMT+0:09:00 STD>),\n",
       "  datetime.datetime(2024, 3, 16, 0, 0, tzinfo=<DstTzInfo 'Europe/Paris' LMT+0:09:00 STD>)),\n",
       " (datetime.datetime(2024, 3, 16, 0, 0, tzinfo=<DstTzInfo 'Europe/Paris' LMT+0:09:00 STD>),\n",
       "  datetime.datetime(2024, 3, 24, 8, 0, tzinfo=<DstTzInfo 'Europe/Paris' LMT+0:09:00 STD>)),\n",
       " (datetime.datetime(2024, 3, 24, 8, 0, tzinfo=<DstTzInfo 'Europe/Paris' LMT+0:09:00 STD>),\n",
       "  datetime.datetime(2024, 4, 1, 16, 0, tzinfo=<DstTzInfo 'Europe/Paris' LMT+0:09:00 STD>)),\n",
       " (datetime.datetime(2024, 4, 1, 16, 0, tzinfo=<DstTzInfo 'Europe/Paris' LMT+0:09:00 STD>),\n",
       "  datetime.datetime(2024, 4, 10, 0, 0, tzinfo=<DstTzInfo 'Europe/Paris' LMT+0:09:00 STD>)),\n",
       " (datetime.datetime(2024, 4, 10, 0, 0, tzinfo=<DstTzInfo 'Europe/Paris' LMT+0:09:00 STD>),\n",
       "  datetime.datetime(2024, 4, 18, 8, 0, tzinfo=<DstTzInfo 'Europe/Paris' LMT+0:09:00 STD>)),\n",
       " (datetime.datetime(2024, 4, 18, 8, 0, tzinfo=<DstTzInfo 'Europe/Paris' LMT+0:09:00 STD>),\n",
       "  datetime.datetime(2024, 4, 26, 16, 0, tzinfo=<DstTzInfo 'Europe/Paris' LMT+0:09:00 STD>)),\n",
       " (datetime.datetime(2024, 4, 26, 16, 0, tzinfo=<DstTzInfo 'Europe/Paris' LMT+0:09:00 STD>),\n",
       "  datetime.datetime(2024, 5, 5, 0, 0, tzinfo=<DstTzInfo 'Europe/Paris' LMT+0:09:00 STD>)),\n",
       " (datetime.datetime(2024, 5, 5, 0, 0, tzinfo=<DstTzInfo 'Europe/Paris' LMT+0:09:00 STD>),\n",
       "  datetime.datetime(2024, 5, 13, 8, 0, tzinfo=<DstTzInfo 'Europe/Paris' LMT+0:09:00 STD>)),\n",
       " (datetime.datetime(2024, 5, 13, 8, 0, tzinfo=<DstTzInfo 'Europe/Paris' LMT+0:09:00 STD>),\n",
       "  datetime.datetime(2024, 5, 21, 16, 0, tzinfo=<DstTzInfo 'Europe/Paris' LMT+0:09:00 STD>)),\n",
       " (datetime.datetime(2024, 5, 21, 16, 0, tzinfo=<DstTzInfo 'Europe/Paris' LMT+0:09:00 STD>),\n",
       "  datetime.datetime(2024, 5, 30, 0, 0, tzinfo=<DstTzInfo 'Europe/Paris' LMT+0:09:00 STD>)),\n",
       " (datetime.datetime(2024, 5, 30, 0, 0, tzinfo=<DstTzInfo 'Europe/Paris' LMT+0:09:00 STD>),\n",
       "  datetime.datetime(2024, 6, 7, 8, 0, tzinfo=<DstTzInfo 'Europe/Paris' LMT+0:09:00 STD>)),\n",
       " (datetime.datetime(2024, 6, 7, 8, 0, tzinfo=<DstTzInfo 'Europe/Paris' LMT+0:09:00 STD>),\n",
       "  datetime.datetime(2024, 6, 15, 16, 0, tzinfo=<DstTzInfo 'Europe/Paris' LMT+0:09:00 STD>)),\n",
       " (datetime.datetime(2024, 6, 15, 16, 0, tzinfo=<DstTzInfo 'Europe/Paris' LMT+0:09:00 STD>),\n",
       "  datetime.datetime(2024, 6, 24, 0, 0, tzinfo=<DstTzInfo 'Europe/Paris' LMT+0:09:00 STD>)),\n",
       " (datetime.datetime(2024, 6, 24, 0, 0, tzinfo=<DstTzInfo 'Europe/Paris' LMT+0:09:00 STD>),\n",
       "  datetime.datetime(2024, 7, 2, 8, 0, tzinfo=<DstTzInfo 'Europe/Paris' LMT+0:09:00 STD>)),\n",
       " (datetime.datetime(2024, 7, 2, 8, 0, tzinfo=<DstTzInfo 'Europe/Paris' LMT+0:09:00 STD>),\n",
       "  datetime.datetime(2024, 7, 10, 16, 0, tzinfo=<DstTzInfo 'Europe/Paris' LMT+0:09:00 STD>)),\n",
       " (datetime.datetime(2024, 7, 10, 16, 0, tzinfo=<DstTzInfo 'Europe/Paris' LMT+0:09:00 STD>),\n",
       "  datetime.datetime(2024, 7, 19, 0, 0, tzinfo=<DstTzInfo 'Europe/Paris' LMT+0:09:00 STD>)),\n",
       " (datetime.datetime(2024, 7, 19, 0, 0, tzinfo=<DstTzInfo 'Europe/Paris' LMT+0:09:00 STD>),\n",
       "  datetime.datetime(2024, 7, 27, 8, 0, tzinfo=<DstTzInfo 'Europe/Paris' LMT+0:09:00 STD>)),\n",
       " (datetime.datetime(2024, 7, 27, 8, 0, tzinfo=<DstTzInfo 'Europe/Paris' LMT+0:09:00 STD>),\n",
       "  datetime.datetime(2024, 8, 4, 16, 0, tzinfo=<DstTzInfo 'Europe/Paris' LMT+0:09:00 STD>)),\n",
       " (datetime.datetime(2024, 8, 4, 16, 0, tzinfo=<DstTzInfo 'Europe/Paris' LMT+0:09:00 STD>),\n",
       "  datetime.datetime(2024, 8, 13, 0, 0, tzinfo=<DstTzInfo 'Europe/Paris' LMT+0:09:00 STD>)),\n",
       " (datetime.datetime(2024, 8, 13, 0, 0, tzinfo=<DstTzInfo 'Europe/Paris' LMT+0:09:00 STD>),\n",
       "  datetime.datetime(2024, 8, 21, 8, 0, tzinfo=<DstTzInfo 'Europe/Paris' LMT+0:09:00 STD>)),\n",
       " (datetime.datetime(2024, 8, 21, 8, 0, tzinfo=<DstTzInfo 'Europe/Paris' LMT+0:09:00 STD>),\n",
       "  datetime.datetime(2024, 8, 29, 16, 0, tzinfo=<DstTzInfo 'Europe/Paris' LMT+0:09:00 STD>)),\n",
       " (datetime.datetime(2024, 8, 29, 16, 0, tzinfo=<DstTzInfo 'Europe/Paris' LMT+0:09:00 STD>),\n",
       "  datetime.datetime(2024, 9, 7, 0, 0, tzinfo=<DstTzInfo 'Europe/Paris' LMT+0:09:00 STD>)),\n",
       " (datetime.datetime(2024, 9, 7, 0, 0, tzinfo=<DstTzInfo 'Europe/Paris' LMT+0:09:00 STD>),\n",
       "  datetime.datetime(2024, 9, 15, 8, 0, tzinfo=<DstTzInfo 'Europe/Paris' LMT+0:09:00 STD>)),\n",
       " (datetime.datetime(2024, 9, 15, 8, 0, tzinfo=<DstTzInfo 'Europe/Paris' LMT+0:09:00 STD>),\n",
       "  datetime.datetime(2024, 9, 23, 16, 0, tzinfo=<DstTzInfo 'Europe/Paris' LMT+0:09:00 STD>)),\n",
       " (datetime.datetime(2024, 9, 23, 16, 0, tzinfo=<DstTzInfo 'Europe/Paris' LMT+0:09:00 STD>),\n",
       "  datetime.datetime(2024, 10, 2, 0, 0, tzinfo=<DstTzInfo 'Europe/Paris' LMT+0:09:00 STD>)),\n",
       " (datetime.datetime(2024, 10, 2, 0, 0, tzinfo=<DstTzInfo 'Europe/Paris' LMT+0:09:00 STD>),\n",
       "  datetime.datetime(2024, 10, 10, 8, 0, tzinfo=<DstTzInfo 'Europe/Paris' LMT+0:09:00 STD>)),\n",
       " (datetime.datetime(2024, 10, 10, 8, 0, tzinfo=<DstTzInfo 'Europe/Paris' LMT+0:09:00 STD>),\n",
       "  datetime.datetime(2024, 10, 18, 16, 0, tzinfo=<DstTzInfo 'Europe/Paris' LMT+0:09:00 STD>)),\n",
       " (datetime.datetime(2024, 10, 18, 16, 0, tzinfo=<DstTzInfo 'Europe/Paris' LMT+0:09:00 STD>),\n",
       "  datetime.datetime(2024, 10, 27, 0, 0, tzinfo=<DstTzInfo 'Europe/Paris' LMT+0:09:00 STD>)),\n",
       " (datetime.datetime(2024, 10, 27, 0, 0, tzinfo=<DstTzInfo 'Europe/Paris' LMT+0:09:00 STD>),\n",
       "  datetime.datetime(2024, 11, 4, 8, 0, tzinfo=<DstTzInfo 'Europe/Paris' LMT+0:09:00 STD>)),\n",
       " (datetime.datetime(2024, 11, 4, 8, 0, tzinfo=<DstTzInfo 'Europe/Paris' LMT+0:09:00 STD>),\n",
       "  datetime.datetime(2024, 11, 12, 16, 0, tzinfo=<DstTzInfo 'Europe/Paris' LMT+0:09:00 STD>)),\n",
       " (datetime.datetime(2024, 11, 12, 16, 0, tzinfo=<DstTzInfo 'Europe/Paris' LMT+0:09:00 STD>),\n",
       "  datetime.datetime(2024, 11, 21, 0, 0, tzinfo=<DstTzInfo 'Europe/Paris' LMT+0:09:00 STD>)),\n",
       " (datetime.datetime(2024, 11, 21, 0, 0, tzinfo=<DstTzInfo 'Europe/Paris' LMT+0:09:00 STD>),\n",
       "  datetime.datetime(2024, 11, 29, 8, 0, tzinfo=<DstTzInfo 'Europe/Paris' LMT+0:09:00 STD>)),\n",
       " (datetime.datetime(2024, 11, 29, 8, 0, tzinfo=<DstTzInfo 'Europe/Paris' LMT+0:09:00 STD>),\n",
       "  datetime.datetime(2024, 12, 7, 16, 0, tzinfo=<DstTzInfo 'Europe/Paris' LMT+0:09:00 STD>)),\n",
       " (datetime.datetime(2024, 12, 7, 16, 0, tzinfo=<DstTzInfo 'Europe/Paris' LMT+0:09:00 STD>),\n",
       "  datetime.datetime(2024, 12, 16, 0, 0, tzinfo=<DstTzInfo 'Europe/Paris' LMT+0:09:00 STD>)),\n",
       " (datetime.datetime(2024, 12, 16, 0, 0, tzinfo=<DstTzInfo 'Europe/Paris' LMT+0:09:00 STD>),\n",
       "  datetime.datetime(2024, 12, 24, 8, 0, tzinfo=<DstTzInfo 'Europe/Paris' LMT+0:09:00 STD>)),\n",
       " (datetime.datetime(2024, 12, 24, 8, 0, tzinfo=<DstTzInfo 'Europe/Paris' LMT+0:09:00 STD>),\n",
       "  datetime.datetime(2024, 12, 28, 19, 40, tzinfo=<DstTzInfo 'Europe/Paris' LMT+0:09:00 STD>))]"
      ]
     },
     "execution_count": 5,
     "metadata": {},
     "output_type": "execute_result"
    }
   ],
   "source": [
    "intervals = generate_time_intervals('2024-01-01 00:00:00', timeframe='1H')\n",
    "intervals"
   ]
  },
  {
   "cell_type": "code",
   "execution_count": 6,
   "metadata": {},
   "outputs": [],
   "source": [
    "def fetch_data(symbol, granularity, interval, product='usdt-futures'):\n",
    "    \n",
    "    start_time, end_time = interval\n",
    "\n",
    "    start_time = int(start_time.timestamp()) * 1000\n",
    "    end_time = int(end_time.timestamp()) * 1000\n",
    "\n",
    "    # print(start_time)\n",
    "    # print(end_time)\n",
    "\n",
    "    url = f\"https://api.bitget.com/api/v2/mix/market/history-mark-candles\"\n",
    "    \n",
    "    params = {\n",
    "                    \"symbol\": f\"{symbol}\",\n",
    "                    \"productType\": product,\n",
    "                    \"granularity\": f\"{granularity}\",\n",
    "                    \"limit\": \"200\",\n",
    "                    \"startTime\": start_time,\n",
    "                    \"endTime\": end_time\n",
    "                }\n",
    "\n",
    "    with semaphore:\n",
    "        response = requests.get(url, params=params)\n",
    "        data = response.json()['data']\n",
    "        # print(len(data))\n",
    "        return data"
   ]
  },
  {
   "cell_type": "code",
   "execution_count": 7,
   "metadata": {},
   "outputs": [
    {
     "data": {
      "text/plain": [
       "[['1703952000000', '42392.9', '42928.9', '42001.4', '42475.7', '0', '0'],\n",
       " ['1704038400000', '42475.7', '42871.9', '42086.1', '42798.9', '0', '0'],\n",
       " ['1704124800000', '42798.9', '45919.5', '42683.2', '45197.1', '0', '0'],\n",
       " ['1704211200000', '45197.1', '45527.1', '40406.5', '42982.7', '0', '0'],\n",
       " ['1704297600000', '42982.7', '44327.2', '42043.1', '44036.4', '0', '0'],\n",
       " ['1704384000000', '44036.4', '44723.4', '42388.4', '43489.9', '0', '0'],\n",
       " ['1704470400000', '43489.9', '44303.7', '43095.9', '43853.9', '0', '0'],\n",
       " ['1704556800000', '43853.9', '44466.2', '43665.6', '44035.5', '0', '0'],\n",
       " ['1704643200000', '44035.5', '45334.3', '43162.1', '44967.7', '0', '0']]"
      ]
     },
     "execution_count": 7,
     "metadata": {},
     "output_type": "execute_result"
    }
   ],
   "source": [
    "fetched = fetch_data('BTCUSDT', '1D', intervals[0])\n",
    "# fetched2 = fetch_data('BTCUSDT', '1H', intervals[1], intervals[2])\n",
    "fetched\n"
   ]
  },
  {
   "cell_type": "code",
   "execution_count": 8,
   "metadata": {},
   "outputs": [],
   "source": [
    "def to_dataframe(data):\n",
    "    # print(data)\n",
    "    df = pd.DataFrame(data, columns=['datetime', 'open', 'high', 'low', 'close', 'volume', 'quote_volume'])\n",
    "    df['datetime'] = pd.to_datetime(df['datetime'].astype(int), unit='ms', origin='unix')\n",
    "    df.set_index('datetime', inplace=True)\n",
    "    return df"
   ]
  },
  {
   "cell_type": "code",
   "execution_count": 9,
   "metadata": {},
   "outputs": [
    {
     "data": {
      "text/html": [
       "<div>\n",
       "<style scoped>\n",
       "    .dataframe tbody tr th:only-of-type {\n",
       "        vertical-align: middle;\n",
       "    }\n",
       "\n",
       "    .dataframe tbody tr th {\n",
       "        vertical-align: top;\n",
       "    }\n",
       "\n",
       "    .dataframe thead th {\n",
       "        text-align: right;\n",
       "    }\n",
       "</style>\n",
       "<table border=\"1\" class=\"dataframe\">\n",
       "  <thead>\n",
       "    <tr style=\"text-align: right;\">\n",
       "      <th></th>\n",
       "      <th>open</th>\n",
       "      <th>high</th>\n",
       "      <th>low</th>\n",
       "      <th>close</th>\n",
       "      <th>volume</th>\n",
       "      <th>quote_volume</th>\n",
       "    </tr>\n",
       "    <tr>\n",
       "      <th>datetime</th>\n",
       "      <th></th>\n",
       "      <th></th>\n",
       "      <th></th>\n",
       "      <th></th>\n",
       "      <th></th>\n",
       "      <th></th>\n",
       "    </tr>\n",
       "  </thead>\n",
       "  <tbody>\n",
       "    <tr>\n",
       "      <th>2023-12-30 16:00:00</th>\n",
       "      <td>42392.9</td>\n",
       "      <td>42928.9</td>\n",
       "      <td>42001.4</td>\n",
       "      <td>42475.7</td>\n",
       "      <td>0</td>\n",
       "      <td>0</td>\n",
       "    </tr>\n",
       "    <tr>\n",
       "      <th>2023-12-31 16:00:00</th>\n",
       "      <td>42475.7</td>\n",
       "      <td>42871.9</td>\n",
       "      <td>42086.1</td>\n",
       "      <td>42798.9</td>\n",
       "      <td>0</td>\n",
       "      <td>0</td>\n",
       "    </tr>\n",
       "    <tr>\n",
       "      <th>2024-01-01 16:00:00</th>\n",
       "      <td>42798.9</td>\n",
       "      <td>45919.5</td>\n",
       "      <td>42683.2</td>\n",
       "      <td>45197.1</td>\n",
       "      <td>0</td>\n",
       "      <td>0</td>\n",
       "    </tr>\n",
       "    <tr>\n",
       "      <th>2024-01-02 16:00:00</th>\n",
       "      <td>45197.1</td>\n",
       "      <td>45527.1</td>\n",
       "      <td>40406.5</td>\n",
       "      <td>42982.7</td>\n",
       "      <td>0</td>\n",
       "      <td>0</td>\n",
       "    </tr>\n",
       "    <tr>\n",
       "      <th>2024-01-03 16:00:00</th>\n",
       "      <td>42982.7</td>\n",
       "      <td>44327.2</td>\n",
       "      <td>42043.1</td>\n",
       "      <td>44036.4</td>\n",
       "      <td>0</td>\n",
       "      <td>0</td>\n",
       "    </tr>\n",
       "    <tr>\n",
       "      <th>2024-01-04 16:00:00</th>\n",
       "      <td>44036.4</td>\n",
       "      <td>44723.4</td>\n",
       "      <td>42388.4</td>\n",
       "      <td>43489.9</td>\n",
       "      <td>0</td>\n",
       "      <td>0</td>\n",
       "    </tr>\n",
       "    <tr>\n",
       "      <th>2024-01-05 16:00:00</th>\n",
       "      <td>43489.9</td>\n",
       "      <td>44303.7</td>\n",
       "      <td>43095.9</td>\n",
       "      <td>43853.9</td>\n",
       "      <td>0</td>\n",
       "      <td>0</td>\n",
       "    </tr>\n",
       "    <tr>\n",
       "      <th>2024-01-06 16:00:00</th>\n",
       "      <td>43853.9</td>\n",
       "      <td>44466.2</td>\n",
       "      <td>43665.6</td>\n",
       "      <td>44035.5</td>\n",
       "      <td>0</td>\n",
       "      <td>0</td>\n",
       "    </tr>\n",
       "    <tr>\n",
       "      <th>2024-01-07 16:00:00</th>\n",
       "      <td>44035.5</td>\n",
       "      <td>45334.3</td>\n",
       "      <td>43162.1</td>\n",
       "      <td>44967.7</td>\n",
       "      <td>0</td>\n",
       "      <td>0</td>\n",
       "    </tr>\n",
       "  </tbody>\n",
       "</table>\n",
       "</div>"
      ],
      "text/plain": [
       "                        open     high      low    close volume quote_volume\n",
       "datetime                                                                   \n",
       "2023-12-30 16:00:00  42392.9  42928.9  42001.4  42475.7      0            0\n",
       "2023-12-31 16:00:00  42475.7  42871.9  42086.1  42798.9      0            0\n",
       "2024-01-01 16:00:00  42798.9  45919.5  42683.2  45197.1      0            0\n",
       "2024-01-02 16:00:00  45197.1  45527.1  40406.5  42982.7      0            0\n",
       "2024-01-03 16:00:00  42982.7  44327.2  42043.1  44036.4      0            0\n",
       "2024-01-04 16:00:00  44036.4  44723.4  42388.4  43489.9      0            0\n",
       "2024-01-05 16:00:00  43489.9  44303.7  43095.9  43853.9      0            0\n",
       "2024-01-06 16:00:00  43853.9  44466.2  43665.6  44035.5      0            0\n",
       "2024-01-07 16:00:00  44035.5  45334.3  43162.1  44967.7      0            0"
      ]
     },
     "execution_count": 9,
     "metadata": {},
     "output_type": "execute_result"
    }
   ],
   "source": [
    "df1 = to_dataframe(fetched)\n",
    "df1"
   ]
  },
  {
   "cell_type": "code",
   "execution_count": null,
   "metadata": {},
   "outputs": [
    {
     "ename": "NameError",
     "evalue": "name 'fetched2' is not defined",
     "output_type": "error",
     "traceback": [
      "\u001b[0;31m---------------------------------------------------------------------------\u001b[0m",
      "\u001b[0;31mNameError\u001b[0m                                 Traceback (most recent call last)",
      "Cell \u001b[0;32mIn[10], line 1\u001b[0m\n\u001b[0;32m----> 1\u001b[0m df2 \u001b[38;5;241m=\u001b[39m to_dataframe(\u001b[43mfetched2\u001b[49m)\n\u001b[1;32m      2\u001b[0m df2\n",
      "\u001b[0;31mNameError\u001b[0m: name 'fetched2' is not defined"
     ]
    }
   ],
   "source": [
    "# df2 = to_dataframe(fetched2)\n",
    "# df2"
   ]
  },
  {
   "cell_type": "code",
   "execution_count": null,
   "metadata": {},
   "outputs": [],
   "source": [
    "# df = pd.concat([df1, df2], axis=0)\n",
    "# df"
   ]
  },
  {
   "cell_type": "code",
   "execution_count": null,
   "metadata": {},
   "outputs": [],
   "source": [
    "for symbol in instruments:\n",
    "    for tf in timeframes:\n",
    "        intervals = generate_time_intervals(start_time, timeframe=tf)  \n",
    "\n",
    "        print(f'fetching __ {symbol} on {tf}')\n",
    "\n",
    "        print(intervals)\n",
    "        fetched = []\n",
    "        for interval in intervals:\n",
    "            \n",
    "            \n",
    "            \n",
    "            if data:\n",
    "                fetched.extend(data)\n",
    "\n",
    "        df = pd.DataFrame(fetched, columns=['datetime', 'open', 'high', 'low', 'close', 'volume', 'quote_volume'])\n",
    "        df['datetime'] = pd.to_datetime(df['datetime'].astype(int), unit='ms', origin='unix')\n",
    "        df.set_index('datetime', inplace=True)\n",
    "        df\n",
    "\n"
   ]
  },
  {
   "cell_type": "code",
   "execution_count": null,
   "metadata": {},
   "outputs": [],
   "source": [
    "fetch_data()"
   ]
  },
  {
   "cell_type": "code",
   "execution_count": null,
   "metadata": {},
   "outputs": [],
   "source": [
    "# # Check if the parent directory exists\n",
    "# if os.path.exists(path_db):\n",
    "#     # Create the directory\n",
    "#     os.mkdir(f'../DB/{symbol}')\n",
    "# else:\n",
    "#     df.to_csv(f'../DB/{symbol}/{symbol}USDT_test_{tf}.csv')"
   ]
  },
  {
   "cell_type": "code",
   "execution_count": null,
   "metadata": {},
   "outputs": [],
   "source": [
    "range = 200\n",
    "timeframe_intervals = {\n",
    "        '1W': datetime.timedelta(weeks=1*12),\n",
    "        '1m': datetime.timedelta(minutes=1*range),\n",
    "        '5m': datetime.timedelta(minutes=5*range),\n",
    "        '15m': datetime.timedelta(minutes=15*range),\n",
    "        '30m': datetime.timedelta(minutes=30*range),\n",
    "        '1H': datetime.timedelta(hours=1*range),\n",
    "        '4H': datetime.timedelta(hours=4*range),\n",
    "        '1D': datetime.timedelta(days=1*90),\n",
    "    }\n",
    "\n",
    "for time in timeframe_intervals.values():\n",
    "    print(time > datetime.timedelta(days=90))"
   ]
  },
  {
   "cell_type": "code",
   "execution_count": null,
   "metadata": {},
   "outputs": [],
   "source": [
    "df_to_check = pd.read_csv('../DB/15m/BTCUSDT_15m.csv')\n",
    "df_to_check"
   ]
  },
  {
   "cell_type": "code",
   "execution_count": null,
   "metadata": {},
   "outputs": [],
   "source": [
    "def check_missing_rows(df, time_frame):\n",
    "    # Convert the datetime column to datetime type\n",
    "    df['datetime'] = pd.to_datetime(df['datetime'])\n",
    "\n",
    "    # Set the datetime column as the index\n",
    "    df.set_index('datetime', inplace=True)\n",
    "\n",
    "    # Resample the DataFrame to the specified time frame and count the number of rows in each interval\n",
    "    resampled = df.resample(time_frame).count()\n",
    "\n",
    "    # Check if there are any intervals with less than the expected number of rows\n",
    "    missing_rows = resampled[resampled['open'] < 1]\n",
    "\n",
    "    # Return True if there are any missing rows, False otherwise\n",
    "    return len(missing_rows) > 0\n",
    "\n",
    "missing_rows = check_missing_rows(df_to_check, '4H')\n",
    "print(missing_rows)"
   ]
  }
 ],
 "metadata": {
  "kernelspec": {
   "display_name": "env",
   "language": "python",
   "name": "python3"
  },
  "language_info": {
   "codemirror_mode": {
    "name": "ipython",
    "version": 3
   },
   "file_extension": ".py",
   "mimetype": "text/x-python",
   "name": "python",
   "nbconvert_exporter": "python",
   "pygments_lexer": "ipython3",
   "version": "3.11.2"
  }
 },
 "nbformat": 4,
 "nbformat_minor": 2
}
