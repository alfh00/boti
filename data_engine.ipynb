{
 "cells": [
  {
   "cell_type": "code",
   "execution_count": null,
   "metadata": {},
   "outputs": [],
   "source": [
    "from data.downloader import ExchangeDataManager\n",
    "import pandas as pd"
   ]
  },
  {
   "cell_type": "code",
   "execution_count": null,
   "metadata": {},
   "outputs": [],
   "source": [
    "EXCHANGE_NAME = 'bitget'\n",
    "# INTERVALS = ['1m', '5m','15m', '1h', '4h']\n",
    "INTERVALS = ['1m']\n",
    "\n",
    "coins_to_download = [\n",
    "    # \"BTC/USDT:USDT\",\n",
    "    # \"ETH/USDT:USDT\",\n",
    "    \"ORDI/USDT:USDT\",\n",
    "    \"INJ/USDT:USDT\",\n",
    "    \"ATOM/USDT:USDT\",\n",
    "    \"ARB/USDT:USDT\",\n",
    "    \"FET/USDT:USDT\",\n",
    "    \"CRV/USDT:USDT\",\n",
    "]\n",
    "\n",
    "exchange = ExchangeDataManager(exchange_name=EXCHANGE_NAME)\n",
    "await exchange.download_data(coins=coins_to_download, intervals=INTERVALS)"
   ]
  },
  {
   "cell_type": "code",
   "execution_count": null,
   "metadata": {},
   "outputs": [],
   "source": [
    "exchange.explore_data()"
   ]
  }
 ],
 "metadata": {
  "kernelspec": {
   "display_name": "env",
   "language": "python",
   "name": "python3"
  },
  "language_info": {
   "codemirror_mode": {
    "name": "ipython",
    "version": 3
   },
   "file_extension": ".py",
   "mimetype": "text/x-python",
   "name": "python",
   "nbconvert_exporter": "python",
   "pygments_lexer": "ipython3",
   "version": "3.11.2"
  }
 },
 "nbformat": 4,
 "nbformat_minor": 2
}
